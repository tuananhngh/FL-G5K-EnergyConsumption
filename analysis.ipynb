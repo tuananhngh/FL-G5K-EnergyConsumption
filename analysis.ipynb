{
 "cells": [
  {
   "cell_type": "code",
   "execution_count": 11,
   "metadata": {},
   "outputs": [],
   "source": [
    "import matplotlib.pyplot as plt\n",
    "import os\n",
    "import pandas as pd\n",
    "from pathlib import Path"
   ]
  },
  {
   "cell_type": "code",
   "execution_count": 103,
   "metadata": {},
   "outputs": [],
   "source": [
    "path = \"./outputs/client_1/2024-01-20/18-57-31\""
   ]
  },
  {
   "cell_type": "code",
   "execution_count": 104,
   "metadata": {},
   "outputs": [],
   "source": [
    "date_time_format = \"%Y-%m-%d %H:%M:%S\"\n",
    "\n",
    "energy = pd.read_csv(path+\"/energy.csv\", parse_dates=[\"timestamp\"],date_parser=lambda x: pd.to_datetime(x, format=date_time_format))\n",
    "energy[\"timestamp\"] = energy[\"timestamp\"].dt.round(\"1s\")\n",
    "\n",
    "fittimes = pd.read_csv(path+\"/fittimes.csv\", parse_dates=[\"Start Time\", \"End Time\"],date_parser=lambda x: pd.to_datetime(x, format=date_time_format))\n",
    "fitresults = pd.read_csv(path+\"/fitresult.csv\",parse_dates=[\"time\"],date_parser=lambda x: pd.to_datetime(x, format=date_time_format))"
   ]
  },
  {
   "cell_type": "code",
   "execution_count": 105,
   "metadata": {},
   "outputs": [],
   "source": [
    "st_rows = energy[energy[\"timestamp\"].isin(fittimes[\"Start Time\"])].reset_index(drop=True)\n",
    "en_rows = energy[energy[\"timestamp\"].isin(fittimes[\"End Time\"])].reset_index(drop=True)"
   ]
  },
  {
   "cell_type": "code",
   "execution_count": 106,
   "metadata": {},
   "outputs": [
    {
     "data": {
      "text/html": [
       "<div>\n",
       "<style scoped>\n",
       "    .dataframe tbody tr th:only-of-type {\n",
       "        vertical-align: middle;\n",
       "    }\n",
       "\n",
       "    .dataframe tbody tr th {\n",
       "        vertical-align: top;\n",
       "    }\n",
       "\n",
       "    .dataframe thead th {\n",
       "        text-align: right;\n",
       "    }\n",
       "</style>\n",
       "<table border=\"1\" class=\"dataframe\">\n",
       "  <thead>\n",
       "    <tr style=\"text-align: right;\">\n",
       "      <th></th>\n",
       "      <th>timestamp</th>\n",
       "      <th>RAM%</th>\n",
       "      <th>GPU%</th>\n",
       "      <th>GPU inst power</th>\n",
       "      <th>GPU avg power</th>\n",
       "      <th>CPU%</th>\n",
       "      <th>CPU inst power</th>\n",
       "      <th>CPU avg power</th>\n",
       "      <th>tot inst power</th>\n",
       "      <th>tot avg power</th>\n",
       "    </tr>\n",
       "  </thead>\n",
       "  <tbody>\n",
       "    <tr>\n",
       "      <th>0</th>\n",
       "      <td>2024-01-20 18:57:58</td>\n",
       "      <td>0.062316</td>\n",
       "      <td>0.0</td>\n",
       "      <td>0.00</td>\n",
       "      <td>0.00</td>\n",
       "      <td>2.750</td>\n",
       "      <td>9.62</td>\n",
       "      <td>9.68</td>\n",
       "      <td>63.29</td>\n",
       "      <td>63.35</td>\n",
       "    </tr>\n",
       "    <tr>\n",
       "      <th>1</th>\n",
       "      <td>2024-01-20 18:59:01</td>\n",
       "      <td>0.100312</td>\n",
       "      <td>0.0</td>\n",
       "      <td>1.92</td>\n",
       "      <td>0.96</td>\n",
       "      <td>4.625</td>\n",
       "      <td>15.40</td>\n",
       "      <td>12.99</td>\n",
       "      <td>72.18</td>\n",
       "      <td>68.41</td>\n",
       "    </tr>\n",
       "    <tr>\n",
       "      <th>2</th>\n",
       "      <td>2024-01-20 18:59:52</td>\n",
       "      <td>0.100387</td>\n",
       "      <td>35.5</td>\n",
       "      <td>1.92</td>\n",
       "      <td>0.96</td>\n",
       "      <td>4.500</td>\n",
       "      <td>14.43</td>\n",
       "      <td>12.50</td>\n",
       "      <td>71.21</td>\n",
       "      <td>67.92</td>\n",
       "    </tr>\n",
       "  </tbody>\n",
       "</table>\n",
       "</div>"
      ],
      "text/plain": [
       "            timestamp      RAM%   GPU%   GPU inst power   GPU avg power  \\\n",
       "0 2024-01-20 18:57:58  0.062316    0.0             0.00            0.00   \n",
       "1 2024-01-20 18:59:01  0.100312    0.0             1.92            0.96   \n",
       "2 2024-01-20 18:59:52  0.100387   35.5             1.92            0.96   \n",
       "\n",
       "    CPU%   CPU inst power   CPU avg power   tot inst power   tot avg power  \n",
       "0  2.750             9.62            9.68            63.29           63.35  \n",
       "1  4.625            15.40           12.99            72.18           68.41  \n",
       "2  4.500            14.43           12.50            71.21           67.92  "
      ]
     },
     "execution_count": 106,
     "metadata": {},
     "output_type": "execute_result"
    }
   ],
   "source": [
    "st_rows"
   ]
  },
  {
   "cell_type": "code",
   "execution_count": 107,
   "metadata": {},
   "outputs": [
    {
     "data": {
      "text/plain": [
       "0    26.74\n",
       "1    21.68\n",
       "2    19.58\n",
       "Name:  tot avg power, dtype: float64"
      ]
     },
     "execution_count": 107,
     "metadata": {},
     "output_type": "execute_result"
    }
   ],
   "source": [
    "en_rows[\" tot avg power\"]-st_rows[\" tot avg power\"]"
   ]
  },
  {
   "cell_type": "code",
   "execution_count": 108,
   "metadata": {},
   "outputs": [
    {
     "data": {
      "text/html": [
       "<div>\n",
       "<style scoped>\n",
       "    .dataframe tbody tr th:only-of-type {\n",
       "        vertical-align: middle;\n",
       "    }\n",
       "\n",
       "    .dataframe tbody tr th {\n",
       "        vertical-align: top;\n",
       "    }\n",
       "\n",
       "    .dataframe thead th {\n",
       "        text-align: right;\n",
       "    }\n",
       "</style>\n",
       "<table border=\"1\" class=\"dataframe\">\n",
       "  <thead>\n",
       "    <tr style=\"text-align: right;\">\n",
       "      <th></th>\n",
       "      <th>Client ID</th>\n",
       "      <th>Server Round</th>\n",
       "      <th>Start Time</th>\n",
       "      <th>End Time</th>\n",
       "    </tr>\n",
       "  </thead>\n",
       "  <tbody>\n",
       "    <tr>\n",
       "      <th>0</th>\n",
       "      <td>1</td>\n",
       "      <td>1</td>\n",
       "      <td>2024-01-20 18:57:58</td>\n",
       "      <td>2024-01-20 18:58:43</td>\n",
       "    </tr>\n",
       "    <tr>\n",
       "      <th>1</th>\n",
       "      <td>1</td>\n",
       "      <td>2</td>\n",
       "      <td>2024-01-20 18:59:01</td>\n",
       "      <td>2024-01-20 18:59:37</td>\n",
       "    </tr>\n",
       "    <tr>\n",
       "      <th>2</th>\n",
       "      <td>1</td>\n",
       "      <td>3</td>\n",
       "      <td>2024-01-20 18:59:52</td>\n",
       "      <td>2024-01-20 19:00:37</td>\n",
       "    </tr>\n",
       "  </tbody>\n",
       "</table>\n",
       "</div>"
      ],
      "text/plain": [
       "   Client ID  Server Round          Start Time            End Time\n",
       "0          1             1 2024-01-20 18:57:58 2024-01-20 18:58:43\n",
       "1          1             2 2024-01-20 18:59:01 2024-01-20 18:59:37\n",
       "2          1             3 2024-01-20 18:59:52 2024-01-20 19:00:37"
      ]
     },
     "execution_count": 108,
     "metadata": {},
     "output_type": "execute_result"
    }
   ],
   "source": [
    "fittimes"
   ]
  },
  {
   "cell_type": "code",
   "execution_count": null,
   "metadata": {},
   "outputs": [],
   "source": []
  }
 ],
 "metadata": {
  "kernelspec": {
   "display_name": "Python 3",
   "language": "python",
   "name": "python3"
  },
  "language_info": {
   "codemirror_mode": {
    "name": "ipython",
    "version": 3
   },
   "file_extension": ".py",
   "mimetype": "text/x-python",
   "name": "python",
   "nbconvert_exporter": "python",
   "pygments_lexer": "ipython3",
   "version": "3.9.2"
  }
 },
 "nbformat": 4,
 "nbformat_minor": 2
}
