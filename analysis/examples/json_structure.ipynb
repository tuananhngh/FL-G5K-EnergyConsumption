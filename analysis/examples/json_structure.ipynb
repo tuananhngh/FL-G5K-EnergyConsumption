{
 "cells": [
  {
   "cell_type": "code",
   "execution_count": null,
   "metadata": {},
   "outputs": [],
   "source": [
    "import json\n",
    "import pandas as pd\n",
    "from types import SimpleNamespace\n",
    "import pickle as pkl\n",
    "import numpy as np\n",
    "import matplotlib.pyplot as plt"
   ]
  },
  {
   "cell_type": "markdown",
   "metadata": {},
   "source": [
    "experiments.json structure\n",
    "- strategies\n",
    "  - fedadam\n",
    "    - exp_summary\n",
    "      - filtered summary dict (convert to dataframe if needed) \n",
    "    - split_epoch (split by each local epoch and exp, contain parameters and path to host files)\n",
    "      - epoch_1\n",
    "        - exp_0\n",
    "          - summary: path/to/summary/file (containing only necessary information of exp 0 and epoch 1)\n",
    "          - client_0\n",
    "            - fittimes: path/to/fittimes/file\n",
    "            - energy: path/to/energy/file\n",
    "            - evalresult: path/to/evalresult/file\n",
    "            - monitoring: path/to/monitoring/file\n",
    "            - processes: path/to/processes/file\n",
    "            - client_log: path/to/client_log/file\n",
    "            - fitresult: path/to/fitresult/file\n",
    "            - logs: path/to/logs/file\n",
    "            - network: path/to/network/file\n",
    "            - pid: path/to/pid/file\n",
    "          - client_1\n",
    "            - ... similar structure as client_0\n",
    "          - server\n",
    "            - energy: path/to/energy/file\n",
    "            - monitoring: path/to/monitoring/file\n",
    "            - processes: path/to/processes/file\n",
    "            - results: path/to/results/file\n",
    "            - logs: path/to/logs/file\n",
    "            - network: path/to/network/file\n",
    "            - server_log: path/to/server_log/file\n",
    "        - exp_1\n",
    "          - ... similar structure as exp_0\n",
    "        ...\n",
    "    - epoch_3 \n",
    "      ...\n",
    "  - fedyogi\n",
    "    - ...\n"
   ]
  }
 ],
 "metadata": {
  "kernelspec": {
   "display_name": "venv-fl",
   "language": "python",
   "name": "python3"
  },
  "language_info": {
   "codemirror_mode": {
    "name": "ipython",
    "version": 3
   },
   "file_extension": ".py",
   "mimetype": "text/x-python",
   "name": "python",
   "nbconvert_exporter": "python",
   "pygments_lexer": "ipython3",
   "version": "3.12.2"
  }
 },
 "nbformat": 4,
 "nbformat_minor": 2
}
