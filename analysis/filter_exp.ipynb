{
 "cells": [
  {
   "cell_type": "code",
   "execution_count": 1,
   "metadata": {},
   "outputs": [],
   "source": [
    "import os\n",
    "import pandas as pd\n",
    "from box import Box\n",
    "import json"
   ]
  },
  {
   "cell_type": "code",
   "execution_count": 2,
   "metadata": {},
   "outputs": [],
   "source": [
    "def read_summaryfile(output_dir):\n",
    "    path_summary = os.path.join(output_dir, \"experiment_summary.csv\")\n",
    "    usr_home = path_summary.replace('/',' ').split()\n",
    "    usr_homedir = f\"{usr_home[0]}/{usr_home[1]}\"\n",
    "    summary = pd.read_csv(\n",
    "        path_summary, \n",
    "        parse_dates=[\n",
    "            \"timestamps.end_experiment_after_sleep\", \n",
    "            \"timestamps.end_experiment\", \n",
    "            \"timestamps.start_experiment\", \n",
    "            \"timestamps.start_experiment_before_sleep\"\n",
    "            ],\n",
    "        date_format='%Y-%m-%d_%H:%M:%S_%f')\n",
    "    summary = match_folder_csv(summary, output_dir)\n",
    "    # Filter by parameters\n",
    "    summary[\"result_folder\"] = summary[\"result_folder\"].apply(lambda x: x.replace(\"root\",usr_homedir))\n",
    "    summary = summary.loc[\n",
    "            ((summary[\"client.local_epochs\"] == 1) & (summary[\"params.num_rounds\"] == 300)) & (summary[\"client.lr\"]==0.0316) |\n",
    "            ((summary[\"client.local_epochs\"].isin([3, 5])) & (summary[\"params.num_rounds\"] == 100)) & (summary[\"client.lr\"]==0.0316)\n",
    "        ]\n",
    "    # Filter by subfolder\n",
    "    folder_path = summary[\"result_folder\"].values.tolist()\n",
    "    for path in folder_path:\n",
    "        if os.path.isdir(path):\n",
    "            nb_subfolder = len(os.listdir(path))\n",
    "            if nb_subfolder == 11:\n",
    "                continue\n",
    "            else:\n",
    "                print(f\"Not enough result, remove {path} from summary\")\n",
    "                summary = summary[summary[\"result_folder\"] != path]\n",
    "    return summary\n",
    "\n",
    "def match_folder_csv(summaryfile, output_dir):\n",
    "    correct_file = os.listdir(output_dir)\n",
    "    summaryfile = summaryfile[summaryfile[\"result_folder\"].apply(lambda x: x.split(\"/\")[-1] in correct_file)]\n",
    "    return summaryfile\n",
    "\n",
    "def filter_epochs(summaryfile, epochs_list):\n",
    "    place_holder = Box()\n",
    "    for e in epochs_list:\n",
    "        summary_e = summaryfile[summaryfile[\"client.local_epochs\"] == e]\n",
    "        epochs_path = summary_e[\"result_folder\"].values.tolist()\n",
    "        place_holder[f'epoch_{e}'] = Box(summary=summary_e, path=epochs_path)\n",
    "    return place_holder"
   ]
  },
  {
   "cell_type": "code",
   "execution_count": 3,
   "metadata": {},
   "outputs": [],
   "source": [
    "import re\n",
    "def create_epochs_dict(by_epochs):\n",
    "    epochs_dict = {}\n",
    "    for epoch in by_epochs.keys():\n",
    "        byhost = {}\n",
    "        for i, path in enumerate(by_epochs.__getattr__(epoch).path):\n",
    "            byhost.setdefault(f'exp_{i}', {})\n",
    "            params = by_epochs.__getattr__(epoch).summary[by_epochs.__getattr__(epoch).summary[\"result_folder\"] == path]\n",
    "            byhost[f'exp_{i}']['summary'] = params.to_dict(orient='records')[0]        \n",
    "            subfolder = [(subfold.split('/')[-1], os.path.join(path, f'{subfold}')) for subfold in os.listdir(path)]\n",
    "            for k in range(len(subfolder)):\n",
    "                client_name = subfolder[k][0]\n",
    "                client_name = client_name.replace('client_host','client')\n",
    "                client_path = subfolder[k][1]\n",
    "                files = os.listdir(client_path)\n",
    "                for e,file in enumerate(files):\n",
    "                    if file == 'client.log' :\n",
    "                        files[e] = 'client_log'\n",
    "                    elif file == 'server.log':\n",
    "                        files[e] = 'server_log'\n",
    "                    elif file == 'client_pids.csv':\n",
    "                        files[e] = 'client_pid'\n",
    "                    else:\n",
    "                        files[e] = re.split('[._]', file)[0]\n",
    "                result_files = [(name, os.path.join(client_path,file)) for name,file in zip(files,os.listdir(client_path))]\n",
    "                for file_name, file_path in result_files:\n",
    "                    byhost[f'exp_{i}'].setdefault(client_name, {}).setdefault(file_name,file_path)\n",
    "                #byhost[f'exp_{i}'][client_name] = subfolder[k][1]\n",
    "        epochs_dict[epoch] = byhost\n",
    "    return epochs_dict"
   ]
  },
  {
   "cell_type": "code",
   "execution_count": 4,
   "metadata": {},
   "outputs": [],
   "source": [
    "parent_path = \"/home/tunguyen/energyfl/outputcifar10/10clients\"\n",
    "def create_json_file(strategies, parent_path, split='labelskew'):\n",
    "    strategy_dict = {}\n",
    "    epoch_list = [1,3,5]\n",
    "    for strategy in strategies:\n",
    "        path = os.path.join(parent_path, strategy, split)\n",
    "        #summary_path = os.path.join(path, \"experiment_summary.csv\")\n",
    "        summary = read_summaryfile(path)\n",
    "        by_epochs = filter_epochs(summary, epoch_list)\n",
    "        strategy_dict[strategy] = create_epochs_dict(by_epochs)\n",
    "    return strategy_dict"
   ]
  },
  {
   "cell_type": "code",
   "execution_count": 5,
   "metadata": {},
   "outputs": [],
   "source": [
    "strategies = ['fedavg','fedadam','fedadagrad','fedyogi']\n",
    "strategy_dict = create_json_file(strategies, parent_path)"
   ]
  },
  {
   "cell_type": "code",
   "execution_count": 148,
   "metadata": {},
   "outputs": [],
   "source": [
    "path_10clients = \"/home/tunguyen/energyfl/outputcifar10/10clients\"\n",
    "with open(os.path.join(path_10clients,'experiments.json'), 'w') as f:\n",
    "    json.dump(strategy_dict, f)"
   ]
  },
  {
   "cell_type": "code",
   "execution_count": 41,
   "metadata": {},
   "outputs": [],
   "source": [
    "# with open('./experiments.json', 'w') as f:\n",
    "#     json.dump(strategy_dict, f)"
   ]
  },
  {
   "cell_type": "code",
   "execution_count": 152,
   "metadata": {},
   "outputs": [
    {
     "name": "stdout",
     "output_type": "stream",
     "text": [
      "True\n"
     ]
    }
   ],
   "source": [
    "# import os\n",
    "\n",
    "# file_path = os.path.join(path_10clients, 'experiments.json')\n",
    "# print(os.path.exists(file_path))"
   ]
  },
  {
   "cell_type": "code",
   "execution_count": null,
   "metadata": {},
   "outputs": [],
   "source": []
  }
 ],
 "metadata": {
  "kernelspec": {
   "display_name": "venv-fl",
   "language": "python",
   "name": "python3"
  },
  "language_info": {
   "codemirror_mode": {
    "name": "ipython",
    "version": 3
   },
   "file_extension": ".py",
   "mimetype": "text/x-python",
   "name": "python",
   "nbconvert_exporter": "python",
   "pygments_lexer": "ipython3",
   "version": "3.9.2"
  }
 },
 "nbformat": 4,
 "nbformat_minor": 2
}
